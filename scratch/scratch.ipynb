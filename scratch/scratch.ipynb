{
 "cells": [
  {
   "cell_type": "code",
   "execution_count": null,
   "metadata": {},
   "outputs": [],
   "source": [
    "!source ~/scratch/venvs/e3_diff/bin/activate"
   ]
  },
  {
   "cell_type": "code",
   "execution_count": null,
   "metadata": {},
   "outputs": [],
   "source": [
    "import os.path as osp\n",
    "import os\n",
    "\n",
    "# from torch_geometric.data import Data\n",
    "#from torch_geometric.loader import DataLoader\n",
    "import torch\n",
    "#from torch_geometric.data import Dataset, download_url\n",
    "import Bio.PDB\n",
    "from Bio import SeqIO\n",
    "import os\n",
    "import numpy as np\n",
    "import torch\n",
    "import argparse\n",
    "import warnings\n",
    "import data.utils as utils\n",
    "warnings.filterwarnings(\"ignore\") # toggle\n",
    "\n",
    "import data.embeddings\n",
    "import math\n"
   ]
  },
  {
   "cell_type": "code",
   "execution_count": null,
   "metadata": {},
   "outputs": [],
   "source": [
    "dim = 256\n",
    "\n",
    "def forward(time: torch.Tensor) -> torch.Tensor:\n",
    "    #device = time.device\n",
    "    half_dim = dim // 2\n",
    "    embeddings = math.log(10000) / (half_dim - 1)\n",
    "    # half_dim shape\n",
    "    embeddings = torch.exp(torch.arange(half_dim) * -embeddings)\n",
    "    # outer product (batch, 1) x (1, half_dim) -> (batch x half_dim)\n",
    "    embeddings = time[:, None] * embeddings[None, :]\n",
    "    # sin and cosine embeddings\n",
    "    embeddings = torch.cat((embeddings.sin(), embeddings.cos()), dim=-1)\n",
    "\n",
    "    return embeddings"
   ]
  },
  {
   "cell_type": "code",
   "execution_count": null,
   "metadata": {},
   "outputs": [],
   "source": [
    "edge_index = torch.ones(100, 100).fill_diagonal_(0)\n",
    "\n",
    "edge_features = []\n",
    "for i in range(100):\n",
    "    for j in range(100):\n",
    "        elem = torch.tensor([i-j])\n",
    "        edge_features.append(forward(elem).T)\n",
    "\n",
    "result = torch.cat(edge_features, dim=1)\n",
    "result = result.reshape(100, 100, 256)"
   ]
  },
  {
   "cell_type": "code",
   "execution_count": null,
   "metadata": {},
   "outputs": [],
   "source": [
    "x_features = forward(torch.tensor([100])).T + \\\n",
    "torch.matmul(torch.tensor(utils.get_R(torch.tensor([256]))).double(),  forward(torch.tensor([0])).T.double())\n",
    "           "
   ]
  },
  {
   "cell_type": "code",
   "execution_count": null,
   "metadata": {},
   "outputs": [],
   "source": [
    "from torch.linalg import qr\n",
    "\n",
    "def get_R(n):\n",
    "    H = torch.randn(n, n)\n",
    "    Q, R = qr(H)\n",
    "    return torch.mm(Q.t(), Q)\n",
    "\n",
    "get_R(256).shape"
   ]
  },
  {
   "cell_type": "code",
   "execution_count": null,
   "metadata": {},
   "outputs": [],
   "source": [
    "dataloader.StructureData(Dataset)"
   ]
  },
  {
   "cell_type": "code",
   "execution_count": null,
   "metadata": {},
   "outputs": [],
   "source": [
    "from sequence_models.pretrained import load_model_and_alphabet\n",
    "\n",
    "model, collater = load_model_and_alphabet('carp_600k')\n",
    "\n",
    "x = collater(['MGTRRLJJJLPHT'])[0]\n",
    "rep = model(x) "
   ]
  },
  {
   "cell_type": "code",
   "execution_count": null,
   "metadata": {},
   "outputs": [],
   "source": [
    "rep['representations'][16].shape"
   ]
  },
  {
   "cell_type": "code",
   "execution_count": null,
   "metadata": {},
   "outputs": [],
   "source": [
    "\n",
    "\n",
    "model, collater = load_model_and_alphabet('carp_38M')\n",
    "\n",
    "x = collater(['MGTRRLLHHHPHT'])[0]\n",
    "rep = model(x) "
   ]
  },
  {
   "cell_type": "code",
   "execution_count": null,
   "metadata": {},
   "outputs": [],
   "source": [
    "x = torch.ones(1, 3)\n",
    "y = torch.ones(1, 256)\n",
    "z = torch.ones(1, 128)"
   ]
  },
  {
   "cell_type": "code",
   "execution_count": null,
   "metadata": {},
   "outputs": [],
   "source": [
    "torch.cat(((x) , (y), (z)), dim=1).shape"
   ]
  },
  {
   "cell_type": "code",
   "execution_count": null,
   "metadata": {},
   "outputs": [],
   "source": [
    "3+256+128"
   ]
  },
  {
   "cell_type": "code",
   "execution_count": null,
   "metadata": {},
   "outputs": [],
   "source": [
    "torch.load('/users/rvinod/data/rvinod/cath/processed/data_7314.pt')"
   ]
  },
  {
   "cell_type": "code",
   "execution_count": null,
   "metadata": {},
   "outputs": [],
   "source": [
    "torch.load('/users/rvinod/data/rvinod/tmp/processed/data_0.pt')"
   ]
  },
  {
   "cell_type": "code",
   "execution_count": null,
   "metadata": {},
   "outputs": [],
   "source": [
    "!pip install prody"
   ]
  },
  {
   "cell_type": "code",
   "execution_count": null,
   "metadata": {},
   "outputs": [],
   "source": [
    "from prody import *"
   ]
  },
  {
   "cell_type": "code",
   "execution_count": null,
   "metadata": {},
   "outputs": [],
   "source": [
    "cath = CATHDB('cath.xml')\n",
    "\n",
    "result = cath.search('2kdlA00')\n",
    "\n",
    "print(result.name)\n",
    "\n",
    "result = cath.search('2kdlA')\n",
    "\n",
    "print(result.name)\n",
    "\n",
    "result = cath.search('2kdlA')\n",
    "\n",
    "print(result.getDomains())"
   ]
  },
  {
   "cell_type": "code",
   "execution_count": null,
   "metadata": {},
   "outputs": [],
   "source": [
    "result = cath.search('3kg2')"
   ]
  },
  {
   "cell_type": "code",
   "execution_count": null,
   "metadata": {},
   "outputs": [],
   "source": [
    "result.name"
   ]
  },
  {
   "cell_type": "code",
   "execution_count": null,
   "metadata": {},
   "outputs": [],
   "source": [
    "result = cath.search('4fx5')"
   ]
  },
  {
   "cell_type": "code",
   "execution_count": null,
   "metadata": {},
   "outputs": [],
   "source": [
    "result.name"
   ]
  },
  {
   "cell_type": "code",
   "execution_count": null,
   "metadata": {},
   "outputs": [],
   "source": [
    "result = cath.search ('4fx5')"
   ]
  },
  {
   "cell_type": "code",
   "execution_count": null,
   "metadata": {},
   "outputs": [],
   "source": [
    "result.name"
   ]
  },
  {
   "cell_type": "code",
   "execution_count": null,
   "metadata": {},
   "outputs": [],
   "source": [
    "!wget http://www.cathdb.info/version/v4_3_0/api/rest/domain_summary/1cukA01"
   ]
  },
  {
   "cell_type": "code",
   "execution_count": null,
   "metadata": {},
   "outputs": [],
   "source": [
    "!ls"
   ]
  },
  {
   "cell_type": "code",
   "execution_count": null,
   "metadata": {},
   "outputs": [],
   "source": [
    "! vim 1cukA01"
   ]
  },
  {
   "cell_type": "code",
   "execution_count": null,
   "metadata": {},
   "outputs": [],
   "source": [
    "import requests\n",
    "from bs4 import BeautifulSoup\n",
    "url = \"http://www.cathdb.info/version/v4_3_0/api/rest/domain_summary/1cukA01\"\n",
    "\n",
    "html = requests.get(url).text\n",
    "print(html)"
   ]
  },
  {
   "cell_type": "code",
   "execution_count": null,
   "metadata": {},
   "outputs": [],
   "source": [
    "import ast"
   ]
  },
  {
   "cell_type": "code",
   "execution_count": null,
   "metadata": {},
   "outputs": [],
   "source": [
    "!pip3 install --user bs4"
   ]
  },
  {
   "cell_type": "code",
   "execution_count": null,
   "metadata": {},
   "outputs": [],
   "source": [
    "import requests\n",
    "import json\n",
    "\n",
    "url = \"http://www.cathdb.info/version/v4_3_0/api/rest/domain_summary/2vszB02\"\n",
    "html = requests.get(url).text\n",
    "res = json.loads(html)\n",
    "res['data']['s35_id']\n"
   ]
  },
  {
   "cell_type": "code",
   "execution_count": null,
   "metadata": {},
   "outputs": [],
   "source": [
    "def get_cath_code(url):\n",
    "    html = requests.get(url).text\n",
    "    res = json.loads(html)\n",
    "    code_class = res['data']['s35_id'].split('.')[0]\n",
    "    return code_class #cath_codes[code_class]"
   ]
  },
  {
   "cell_type": "code",
   "execution_count": null,
   "metadata": {},
   "outputs": [],
   "source": [
    "get_cath_code(url)"
   ]
  },
  {
   "cell_type": "code",
   "execution_count": null,
   "metadata": {},
   "outputs": [],
   "source": [
    "import utils\n",
    "y_url = 'http://www.cathdb.info/version/v4_3_0/api/rest/domain_summary/2vszB02' \n",
    "y = utils.get_cath_code(y_url)"
   ]
  },
  {
   "cell_type": "code",
   "execution_count": null,
   "metadata": {},
   "outputs": [],
   "source": [
    "import torch"
   ]
  },
  {
   "cell_type": "code",
   "execution_count": null,
   "metadata": {},
   "outputs": [],
   "source": [
    "utils.get_cath_code('http://www.cathdb.info/version/v4_3_0/api/rest/domain_summary/2v7qI00')"
   ]
  },
  {
   "cell_type": "code",
   "execution_count": null,
   "metadata": {},
   "outputs": [],
   "source": [
    "!source ~/scratch/venvs/e3_diff/bin/activate\n",
    "!module load python/3.7.4"
   ]
  },
  {
   "cell_type": "code",
   "execution_count": null,
   "metadata": {},
   "outputs": [],
   "source": [
    "import torch\n",
    "import torch_sparse\n",
    "torch.load('/users/rvinod/data/rvinod/cath/processed/data_1671.pt')"
   ]
  },
  {
   "cell_type": "code",
   "execution_count": null,
   "metadata": {},
   "outputs": [],
   "source": [
    "!pip install --user torch_sparse"
   ]
  },
  {
   "cell_type": "code",
   "execution_count": null,
   "metadata": {},
   "outputs": [],
   "source": [
    "utils.get_cath_code('http://www.cathdb.info/version/v4_3_0/api/rest/domain_summary/1xdpA04')"
   ]
  },
  {
   "cell_type": "code",
   "execution_count": null,
   "metadata": {},
   "outputs": [],
   "source": [
    "import requests\n",
    "import json\n",
    "\n",
    "url = 'http://www.cathdb.info/version/v4_3_0/api/rest/domain_summary/1xdpA04'\n",
    "\n",
    "def get_cath_code(url):\n",
    "    html = requests.get(url).text\n",
    "    res = json.loads(html)\n",
    "    with open(res, \"r\") as read_file:\n",
    "        data = json.load(read_file)\n",
    "        code_class = data['data']['s35_id'].split('.')[0]\n",
    "    return torch.tensor(int(code_class)) #cath_codes[code_class]\n"
   ]
  },
  {
   "cell_type": "code",
   "execution_count": null,
   "metadata": {},
   "outputs": [],
   "source": [
    "get_cath_code('http://www.cathdb.info/version/v4_3_0/api/rest/domain_summary/1xdpA04')"
   ]
  },
  {
   "cell_type": "code",
   "execution_count": null,
   "metadata": {},
   "outputs": [],
   "source": [
    "!pip3 install --user urllib"
   ]
  },
  {
   "cell_type": "code",
   "execution_count": null,
   "metadata": {},
   "outputs": [],
   "source": [
    "import urllib\n",
    "\n"
   ]
  },
  {
   "cell_type": "code",
   "execution_count": null,
   "metadata": {},
   "outputs": [],
   "source": [
    "import urllib.request as urllib"
   ]
  },
  {
   "cell_type": "code",
   "execution_count": null,
   "metadata": {},
   "outputs": [],
   "source": [
    "infile = urllib.urlopen(url)"
   ]
  },
  {
   "cell_type": "code",
   "execution_count": null,
   "metadata": {},
   "outputs": [],
   "source": [
    "infile"
   ]
  },
  {
   "cell_type": "code",
   "execution_count": null,
   "metadata": {},
   "outputs": [],
   "source": [
    "dict(infile.read())"
   ]
  },
  {
   "cell_type": "code",
   "execution_count": null,
   "metadata": {},
   "outputs": [],
   "source": [
    "infile = urllib.urlretrieve(url, filename='webpage.html')\n"
   ]
  },
  {
   "cell_type": "code",
   "execution_count": null,
   "metadata": {},
   "outputs": [],
   "source": [
    "infile \n"
   ]
  },
  {
   "cell_type": "code",
   "execution_count": null,
   "metadata": {},
   "outputs": [],
   "source": [
    "infile"
   ]
  },
  {
   "cell_type": "code",
   "execution_count": null,
   "metadata": {},
   "outputs": [],
   "source": [
    "# URL Error\n",
    "  \n",
    "import urllib.request\n",
    "import urllib.parse\n",
    "\n",
    "def url_cath(url):\n",
    "    # trying to read the URL but with no internet connectivity\n",
    "    try:\n",
    "        x = urllib.request.urlopen(url)\n",
    "        x = x.read()\n",
    "    \n",
    "    # Catching the exception generated     \n",
    "    except Exception as e :\n",
    "        print(str(e))\n",
    "        return torch.tensor(0)\n",
    "    \n",
    "    return torch.tensor(int(json.loads(x.decode('utf-8'))['data']['s35_id'].split('.')[0]))\n"
   ]
  },
  {
   "cell_type": "code",
   "execution_count": null,
   "metadata": {},
   "outputs": [],
   "source": [
    "url_cath('http://www.cathdb.info/version/v4_3_0/api/rest/domain_summary/2x5dA01')"
   ]
  },
  {
   "cell_type": "code",
   "execution_count": null,
   "metadata": {},
   "outputs": [],
   "source": [
    "nodes1 = torch.arange(129)\n",
    "nodes2 = torch.arange(129)"
   ]
  },
  {
   "cell_type": "code",
   "execution_count": null,
   "metadata": {},
   "outputs": [],
   "source": [
    "rows, cols = [], []\n",
    "edges = []\n",
    "for i in range(129):\n",
    "    for j in range(i, 129):\n",
    "        if i!=j:\n",
    "         edges.append([i, j])"
   ]
  },
  {
   "cell_type": "code",
   "execution_count": null,
   "metadata": {},
   "outputs": [],
   "source": [
    "torch.tensor(edges).T.shape"
   ]
  },
  {
   "cell_type": "code",
   "execution_count": null,
   "metadata": {},
   "outputs": [],
   "source": [
    "129*128/2"
   ]
  },
  {
   "cell_type": "code",
   "execution_count": null,
   "metadata": {},
   "outputs": [],
   "source": [
    "import data.embeddings as embeddings"
   ]
  },
  {
   "cell_type": "code",
   "execution_count": null,
   "metadata": {},
   "outputs": [],
   "source": [
    "edge_attr = []\n",
    "for e in edges:\n",
    "    elem = torch.tensor([e[1] - e[0]])\n",
    "    print(elem)\n",
    "    edge_attr.append(embeddings.SinusoidalPositionEmbeddings(256).forward(elem).T)\n"
   ]
  },
  {
   "cell_type": "code",
   "execution_count": null,
   "metadata": {},
   "outputs": [],
   "source": [
    "edge_attr = torch.cat(edge_attr)"
   ]
  },
  {
   "cell_type": "code",
   "execution_count": null,
   "metadata": {},
   "outputs": [],
   "source": [
    "edge_attr.reshape(-1, 256).size()"
   ]
  },
  {
   "cell_type": "code",
   "execution_count": null,
   "metadata": {},
   "outputs": [],
   "source": [
    "import torch\n",
    "from torch.nn import Linear\n",
    "from torch_geometric.nn import GCNConv\n",
    "\n",
    "\n",
    "class GCN(torch.nn.Module):\n",
    "    def __init__(self):\n",
    "        super().__init__()\n",
    "        torch.manual_seed(1234)\n",
    "        self.conv1 = GCNConv(dataset.num_features, 4)\n",
    "        self.conv2 = GCNConv(4, 4)\n",
    "        self.conv3 = GCNConv(4, 2)\n",
    "        self.classifier = Linear(2, dataset.num_classes)\n",
    "\n",
    "    def forward(self, x, edge_index):\n",
    "        h = self.conv1(x, edge_index)\n",
    "        h = h.tanh()\n",
    "        h = self.conv2(h, edge_index)\n",
    "        h = h.tanh()\n",
    "        h = self.conv3(h, edge_index)\n",
    "        h = h.tanh()  # Final GNN embedding space.\n",
    "        \n",
    "        # Apply a final (linear) classifier.\n",
    "        out = self.classifier(h)\n",
    "\n",
    "        return out, h\n",
    "\n",
    "model = GCN()\n",
    "print(model)"
   ]
  },
  {
   "cell_type": "code",
   "execution_count": null,
   "metadata": {},
   "outputs": [],
   "source": [
    "y = torch.tensor(3)"
   ]
  },
  {
   "cell_type": "code",
   "execution_count": null,
   "metadata": {},
   "outputs": [],
   "source": [
    "y"
   ]
  },
  {
   "cell_type": "code",
   "execution_count": null,
   "metadata": {},
   "outputs": [],
   "source": [
    "y_ = torch.full((5, 1), (y))"
   ]
  },
  {
   "cell_type": "code",
   "execution_count": null,
   "metadata": {},
   "outputs": [],
   "source": [
    "y_.shape"
   ]
  },
  {
   "cell_type": "code",
   "execution_count": null,
   "metadata": {},
   "outputs": [],
   "source": [
    "y_.shape[0]"
   ]
  },
  {
   "cell_type": "code",
   "execution_count": null,
   "metadata": {},
   "outputs": [],
   "source": []
  }
 ],
 "metadata": {
  "kernelspec": {
   "display_name": "Python 3",
   "language": "python",
   "name": "python3"
  },
  "language_info": {
   "codemirror_mode": {
    "name": "ipython",
    "version": 3
   },
   "file_extension": ".py",
   "mimetype": "text/x-python",
   "name": "python",
   "nbconvert_exporter": "python",
   "pygments_lexer": "ipython3",
   "version": "3.6.8 (default, May  6 2020, 12:04:35) \n[GCC 4.8.5 20150623 (Red Hat 4.8.5-39)]"
  },
  "vscode": {
   "interpreter": {
    "hash": "31f2aee4e71d21fbe5cf8b01ff0e069b9275f58929596ceb00d14d90e3e16cd6"
   }
  }
 },
 "nbformat": 4,
 "nbformat_minor": 2
}
